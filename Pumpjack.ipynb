{
 "cells": [
  {
   "cell_type": "code",
   "execution_count": 28,
   "id": "f995fabd-0d2b-4b17-9bf4-819ba7c172db",
   "metadata": {},
   "outputs": [],
   "source": [
    "import pandas as pd\n",
    "import sqlite3\n",
    "import uuid"
   ]
  },
  {
   "cell_type": "code",
   "execution_count": 31,
   "id": "da3c6772-2375-4171-b2aa-907b1768f7cd",
   "metadata": {},
   "outputs": [],
   "source": [
    "cols_list = [\"first_name\",\"last_name\",\"salary\",\"dept_name\",\"salary_increment\"]\n",
    "employees=pd.read_csv(\"flat_data.csv\",usecols=cols_list)"
   ]
  },
  {
   "cell_type": "markdown",
   "id": "8e6bf2e5-ea03-4189-b970-01ce36452e53",
   "metadata": {},
   "source": [
    "## Create our pretend employee and department tables"
   ]
  },
  {
   "cell_type": "code",
   "execution_count": 94,
   "id": "780d08e8-bbb8-4f3d-a2d9-5bfc71f9101c",
   "metadata": {},
   "outputs": [
    {
     "data": {
      "text/plain": [
       "<sqlite3.Cursor at 0x7fd01f57bd50>"
      ]
     },
     "execution_count": 94,
     "metadata": {},
     "output_type": "execute_result"
    }
   ],
   "source": [
    "con = sqlite3.connect('pumpjack.db')\n",
    "cur = con.cursor()\n",
    "\n",
    "cur.execute('''CREATE TABLE employee\n",
    "               (id uuid, first_name text, last_name text, salary numeric, department_id uuid)''')\n",
    "\n",
    "cur.execute('''CREATE TABLE department\n",
    "               (id uuid, name text, salary_increment numeric)''')\n",
    "\n",
    "cur.execute('''CREATE TABLE updated_salaries\n",
    "               (employee_id uuid, updated_salary numeric)''')\n"
   ]
  },
  {
   "cell_type": "code",
   "execution_count": 95,
   "id": "5dff3732-cfb8-4d0c-ba40-35935f1b57ba",
   "metadata": {},
   "outputs": [],
   "source": [
    "employee_uuid = 0\n",
    "department_uuid = 0\n",
    "\n",
    "\n",
    "for employee in employees.values:\n",
    "    \n",
    "    employee_uuid = uuid.uuid4()\n",
    "    department_uuid = uuid.uuid4()\n",
    "    employee_name = employee[0] + \" \" + employee[1]\n",
    "    \n",
    "    cur.execute(f\"INSERT INTO employee VALUES ('{employee_uuid}','{employee[0]}','{employee[1]}',{employee[2]},'{department_uuid}')\")\n",
    "    cur.execute(f\"INSERT INTO department VALUES ('{department_uuid}','{employee_name}', {employee[2] * employee[4] / 100})\")\n",
    "\n",
    "con.commit()\n",
    "#"
   ]
  },
  {
   "cell_type": "code",
   "execution_count": 96,
   "id": "22ea8f56-9015-4959-b46d-8a5c8da0a2d0",
   "metadata": {},
   "outputs": [
    {
     "name": "stdout",
     "output_type": "stream",
     "text": [
      "['Darius' 'Mufutau' 3901 'Finance' 10]\n",
      "['Tiger' 'Elliott' 5489 'IT' 15]\n",
      "['Malik' 'Macaulay' 5444 'Sales' 17]\n",
      "['Ali' 'Vance' 8993 'Marketing' 16]\n",
      "['Randall' 'Deacon' 9515 'IT' 15]\n",
      "['Josiah' 'Lee' 8113 'Sales' 17]\n",
      "['Dante' 'Mohammad' 8446 'Sales' 17]\n",
      "['Wyatt' 'Kuame' 4817 'Marketing' 16]\n",
      "['Quinn' 'Oliver' 5513 'Finance' 10]\n",
      "['Oliver' 'Gary' 5158 'IT' 15]\n",
      "['Thane' 'Phelan' 4957 'Sales' 17]\n",
      "['Walter' 'Lester' 3864 'Finance' 10]\n",
      "['Samson' 'Dolan' 6855 'IT' 15]\n",
      "['Beck' 'Walker' 7077 'Sales' 17]\n",
      "['Lucas' 'Marshall' 7499 'Marketing' 16]\n",
      "['John' 'Nash' 4269 'IT' 15]\n",
      "['Quinlan' 'Elliott' 7503 'Sales' 17]\n",
      "['Ivan' 'Dennis' 4048 'Sales' 17]\n",
      "['Wang' 'Ronan' 9319 'Marketing' 16]\n",
      "['Stone' 'Jameson' 9354 'Finance' 10]\n",
      "['Clayton' 'Jarrod' 4102 'IT' 15]\n",
      "['Cain' 'Sean' 7353 'Sales' 17]\n"
     ]
    }
   ],
   "source": [
    "for employee in employees.values:\n",
    "    print(employee)"
   ]
  },
  {
   "cell_type": "code",
   "execution_count": 97,
   "id": "4f4af8f4-40ad-4b07-a9cb-556c7a72e0d0",
   "metadata": {},
   "outputs": [],
   "source": [
    "con.commit()\n",
    "con.close() # close and commit data\n"
   ]
  },
  {
   "cell_type": "markdown",
   "id": "74a7ce83-c0a9-4b64-b24a-07a5f8c85cbb",
   "metadata": {},
   "source": [
    "## Read from tables and calculate updated salary"
   ]
  },
  {
   "cell_type": "code",
   "execution_count": 98,
   "id": "8439dbde-182d-41e0-8d15-903c4be84670",
   "metadata": {},
   "outputs": [],
   "source": [
    "con = sqlite3.connect('pumpjack.db')\n",
    "cur = con.cursor()\n",
    "cur2 = con.cursor()\n",
    "cur3 = con.cursor()\n",
    "\n",
    "for row in cur.execute('SELECT * FROM employee'):\n",
    "    \n",
    "    employee_id = row[0]\n",
    "    department_uuid = row[4]\n",
    "    salary = row[3]\n",
    "    \n",
    "    department_row = cur2.execute(f\"SELECT * FROM department WHERE id='{department_uuid}'\")\n",
    "    \n",
    "    for val in department_row:\n",
    "        salary_increment = val[2]\n",
    "         \n",
    "    cur3.execute(f\"INSERT INTO updated_salaries VALUES ('{employee_id}', {salary + salary_increment})\")    "
   ]
  },
  {
   "cell_type": "code",
   "execution_count": 99,
   "id": "acae7b41-2dcb-421d-a5a0-c63bcfa5e41f",
   "metadata": {},
   "outputs": [
    {
     "name": "stdout",
     "output_type": "stream",
     "text": [
      "('6dc1af1a-62fd-44bc-9ae4-0eabdda1e026', 4250.4)\n",
      "('522fafcc-5356-4332-9193-0854b0df02e5', 4291.1)\n",
      "('86580774-622d-4fde-9fbe-a935fd032bf7', 4717.3)\n",
      "('a487805b-5411-4ef2-bc11-73f6e279e488', 4736.16)\n",
      "('d98caff6-7250-4d1f-82da-f594073611ab', 4909.35)\n",
      "('f62574f2-d8ad-4f39-9160-ed54b3759916', 5587.72)\n",
      "('6f4c5a5f-94e7-4804-9448-b1403a4c4dc6', 5799.6900000000005)\n",
      "('81b4567a-625d-457f-b51c-faef5d2eca6e', 5931.7)\n",
      "('6f8f788f-26d9-4afa-9a5c-a82dc678f0e5', 6064.3)\n",
      "('9a010414-9778-4b4a-b8b7-aab2589d6cb2', 6312.35)\n",
      "('b1d59ae1-9b24-4286-81d9-66722c73e152', 6369.48)\n",
      "('a1733f60-72af-42a5-9dd4-90f4ba995afe', 7883.25)\n",
      "('4187b088-c137-4712-b743-cc493f8e5b9e', 8280.09)\n",
      "('76271dd9-066c-4dc8-bdd8-1ff0fa7806a1', 8603.01)\n",
      "('28e0f4c4-35c5-4ce2-886f-91328068ab6f', 8698.84)\n",
      "('1865302c-48b1-422e-bd5c-b6edbc5a8d84', 8778.51)\n",
      "('7fd9262c-4f99-46f3-80e0-3df7456b13ca', 9492.21)\n",
      "('159836aa-ff7b-4f9b-8fa8-9937665e1704', 9881.82)\n",
      "('d924462d-ef4b-4e50-940f-3e15e6bff67f', 10289.4)\n",
      "('54d00e34-c43f-4518-9bde-b9985dbf47ab', 10431.880000000001)\n",
      "('224e824f-7673-4ad1-93bd-c714991fdfbe', 10810.04)\n",
      "('5a0230de-b78a-4b60-ba1d-0e28099183a2', 10942.25)\n"
     ]
    }
   ],
   "source": [
    "for row in cur.execute('SELECT * FROM updated_salaries ORDER BY updated_salary'):\n",
    "        print(row)"
   ]
  },
  {
   "cell_type": "code",
   "execution_count": null,
   "id": "347a8d69-2239-4e96-a2ff-26e16a8b4534",
   "metadata": {},
   "outputs": [],
   "source": []
  }
 ],
 "metadata": {
  "kernelspec": {
   "display_name": "Python 3",
   "language": "python",
   "name": "python3"
  },
  "language_info": {
   "codemirror_mode": {
    "name": "ipython",
    "version": 3
   },
   "file_extension": ".py",
   "mimetype": "text/x-python",
   "name": "python",
   "nbconvert_exporter": "python",
   "pygments_lexer": "ipython3",
   "version": "3.9.5"
  }
 },
 "nbformat": 4,
 "nbformat_minor": 5
}
